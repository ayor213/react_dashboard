{
 "cells": [
  {
   "cell_type": "code",
   "execution_count": 10,
   "metadata": {},
   "outputs": [
    {
     "name": "stdout",
     "output_type": "stream",
     "text": [
      "Contacts data has been exported to contacts.json.\n"
     ]
    }
   ],
   "source": [
    "import random\n",
    "\n",
    "# List of random first names\n",
    "first_names = [\n",
    "    \"Liam\", \"Olivia\", \"Noah\", \"Emma\", \"Oliver\", \"Ava\", \"William\", \"Sophia\", \"Elijah\", \"Isabella\",\n",
    "    \"James\", \"Charlotte\", \"Benjamin\", \"Amelia\", \"Lucas\", \"Mia\", \"Henry\", \"Harper\", \"Alexander\", \"Evelyn\",\n",
    "    \"Michael\", \"Abigail\", \"Daniel\", \"Emily\", \"Matthew\", \"Elizabeth\", \"Jackson\", \"Avery\", \"Logan\", \"Sofia\",\n",
    "    \"Sebastian\", \"Ella\", \"Mateo\", \"Madison\", \"David\", \"Scarlett\", \"Joseph\", \"Victoria\", \"Carter\", \"Aria\",\n",
    "    \"Owen\", \"Grace\", \"Wyatt\", \"Chloe\", \"John\", \"Penelope\", \"Jack\", \"Riley\", \"Luke\", \"Layla\",\n",
    "    \"Dylan\", \"Nora\", \"Grayson\", \"Zoey\", \"Levi\", \"Aubrey\", \"Isaac\", \"Hannah\", \"Jayden\", \"Lily\",\n",
    "    \"Gabriel\", \"Addison\", \"Julian\", \"Lillian\", \"Leo\", \"Natalie\", \"Lincoln\", \"Luna\", \"Christopher\", \"Samantha\",\n",
    "    \"Joshua\", \"Eleanor\", \"Andrew\", \"Brooklyn\", \"Caleb\", \"Leah\", \"Ethan\", \"Zoe\", \"Ryan\", \"Audrey\",\n",
    "    \"Asher\", \"Claire\", \"Nathan\", \"Ellie\", \"Thomas\", \"Skylar\", \"Leo\", \"Lucy\", \"Isaiah\", \"Nevaeh\",\n",
    "]\n",
    "\n",
    "# List of random last names\n",
    "last_names = [\n",
    "    \"Smith\", \"Johnson\", \"Williams\", \"Brown\", \"Jones\", \"Garcia\", \"Miller\", \"Davis\", \"Rodriguez\", \"Martinez\",\n",
    "    \"Hernandez\", \"Lopez\", \"Gonzalez\", \"Wilson\", \"Anderson\", \"Thomas\", \"Taylor\", \"Moore\", \"Jackson\", \"Martin\",\n",
    "    \"Lee\", \"Perez\", \"Thompson\", \"White\", \"Harris\", \"Sanchez\", \"Clark\", \"Ramirez\", \"Lewis\", \"Robinson\",\n",
    "    \"Walker\", \"Young\", \"Allen\", \"King\", \"Wright\", \"Scott\", \"Torres\", \"Nguyen\", \"Hill\", \"Flores\",\n",
    "    \"Green\", \"Adams\", \"Nelson\", \"Baker\", \"Hall\", \"Rivera\", \"Campbell\", \"Mitchell\", \"Carter\", \"Roberts\",\n",
    "    \"Gomez\", \"Phillips\", \"Evans\", \"Turner\", \"Diaz\", \"Parker\", \"Cruz\", \"Edwards\", \"Collins\", \"Reyes\",\n",
    "    \"Stewart\", \"Morris\", \"Morales\", \"Murphy\", \"Cook\", \"Rogers\", \"Gutierrez\", \"Ortiz\", \"Morgan\", \"Cooper\",\n",
    "    \"Peterson\", \"Bailey\", \"Reed\", \"Kelly\", \"Howard\", \"Ramos\", \"Kim\", \"Cox\", \"Ward\", \"Richardson\",\n",
    "    \"Watson\", \"Brooks\", \"Chavez\", \"Wood\", \"James\", \"Bennett\", \"Gray\", \"Mendoza\", \"Ruiz\", \"Hughes\",\n",
    "]\n",
    "\n",
    "# Generate random pairs of first and last names\n",
    "random_names = [(random.choice(first_names), random.choice(last_names)) for _ in range(100)]\n",
    "\n",
    "# Function to generate a random UK phone number\n",
    "def generate_phone_number():\n",
    "    return \"+44\" + \"\".join(random.choices(\"0123456789\", k=10))\n",
    "\n",
    "# Function to generate a random UK address\n",
    "\n",
    "street_names = [\"King's Road\", \"High Street\", \"Church Street\", \"Park Avenue\"]\n",
    "city_names = [\n",
    "    \"London\",\n",
    "    \"Manchester\",\n",
    "    \"Birmingham\",\n",
    "    \"Liverpool\",\n",
    "    \"Leeds\",\n",
    "    \"Newcastle upon Tyne\",\n",
    "    \"Sheffield\",\n",
    "    \"Bristol\",\n",
    "    \"Nottingham\",\n",
    "    \"Leicester\",\n",
    "    \"Coventry\",\n",
    "    \"Bradford\",\n",
    "    \"Stoke-on-Trent\",\n",
    "    \"Wolverhampton\",\n",
    "    \"Derby\",\n",
    "    \"Southampton\",\n",
    "    \"Portsmouth\",\n",
    "    \"Plymouth\",\n",
    "    \"Reading\",\n",
    "    \"Luton\",\n",
    "    \"Stockton On Tees\",\n",
    "    \"Middlesbrough\",\n",
    "    \"Perth and Kinross\",\n",
    "    \"Glasgow\",\n",
    "    \"Edinburgh\",\n",
    "    \"Aberdeen\",\n",
    "    \"Dundee\",\n",
    "    \"Inverness\",\n",
    "       \"Cardiff\",\n",
    "    \"Swansea\",\n",
    "    \"Newport\",\n",
    "    \"Bangor\",\n",
    "    \"St Davids\",\n",
    "     \"Belfast\",\n",
    "    \"Londonderry\",\n",
    "    \"Newry\",\n",
    "    \"Armagh\",\n",
    "    \"Lisburn\",\n",
    "    \n",
    "]\n",
    "def generate_address():\n",
    "    return str(random.randint(1, 100)) + \" \" + random.choice(street_names) + \", \" + random.choice(city_names)\n",
    "\n",
    "# Mapping of first two digits for cities\n",
    "first_two_digits = {\n",
    "    \"London\": \"SW\", \"Manchester\": \"M\", \"Birmingham\": \"B\", \"Liverpool\": \"L\", \"Leeds\": \"LS\",\n",
    "    \"Newcastle upon Tyne\": \"NE\", \"Sheffield\": \"S\", \"Bristol\": \"BS\", \"Nottingham\": \"NG\",\n",
    "    \"Leicester\": \"LE\", \"Coventry\": \"CV\", \"Bradford\": \"BD\", \"Stoke-on-Trent\": \"ST\",\n",
    "    \"Wolverhampton\": \"WV\", \"Derby\": \"DE\", \"Southampton\": \"SO\", \"Portsmouth\": \"PO\",\n",
    "    \"Plymouth\": \"PL\", \"Reading\": \"RG\", \"Luton\": \"LU\", \"Stockton On Tees\": \"TS\",\n",
    "    \"Middlesbrough\": \"TS\", \"Perth and Kinross\": \"PH\", \"Glasgow\": \"G\", \"Edinburgh\": \"EH\",\n",
    "    \"Aberdeen\": \"AB\", \"Dundee\": \"DD\", \"Inverness\": \"IV\", \"Cardiff\": \"CF\", \"Swansea\": \"SA\",\n",
    "    \"Newport\": \"NP\", \"Bangor\": \"BT\", \"St Davids\": \"SA\", \"Belfast\": \"BT\", \"Londonderry\": \"BT\",\n",
    "    \"Newry\": \"BT\", \"Armagh\": \"BT\", \"Lisburn\": \"BT\"\n",
    "}\n",
    "# Function to generate a random UK zip code\n",
    "def generate_zip_code(city):\n",
    "    first_part = first_two_digits.get(city, \"XX\")\n",
    "    return f\"{first_part}{random.randint(1, 99)} {random.randint(1, 9)}{first_part}\"\n",
    "\n",
    "\n",
    "# Generate 100 contacts with random UK-style addresses, phone numbers, and zip codes\n",
    "mockDataContacts = []\n",
    "for i in range(1, 101):\n",
    "    name = random_names[i-1]\n",
    "    city = random.choice(city_names)\n",
    "    contact = {\n",
    "        \"id\": i,\n",
    "        \"name\":  f\"{name[0]} {name[1]}\",\n",
    "        \"email\": f\"{name[0].lower()}.{name[1].lower()}@gmail.com\",\n",
    "        \"age\": random.randint(18, 80),\n",
    "        \"phone\": generate_phone_number(),\n",
    "        \"address\": generate_address(),\n",
    "        \"city\": city,\n",
    "        \"zipCode\": generate_zip_code(city),\n",
    "        \"registrarId\": random.randint(100000, 999999),\n",
    "    }\n",
    "    mockDataContacts.append(contact)\n",
    "\n",
    "# Print the generated contacts\n",
    "#for contact in mockDataContacts:\n",
    "    #print(contact, end=\", \")\n",
    "# Export the contacts data to a JSON file\n",
    "import json\n",
    "with open(\"contacts.json\", \"w\") as json_file:\n",
    "    json.dump(mockDataContacts, json_file, indent=4)\n",
    "\n",
    "print(\"Contacts data has been exported to contacts.json.\")"
   ]
  },
  {
   "cell_type": "code",
   "execution_count": 25,
   "metadata": {},
   "outputs": [
    {
     "name": "stdout",
     "output_type": "stream",
     "text": [
      "Teams data has been exported to contacts.json.\n"
     ]
    }
   ],
   "source": [
    "\n",
    "\n",
    "def generate_access():\n",
    "    access =  access = [\"admin\"] * 5 + [\"manager\"] * 10 + [\"user\"] * 85\n",
    "    return random.choice(access) \n",
    "# Generate 100 contacts with random UK-style addresses, phone numbers, and zip codes\n",
    "mockDataTeam = []\n",
    "for i in range(1, 101):\n",
    "    name = random_names[i-1]\n",
    "    Team = {\n",
    "        \"id\": i,\n",
    "        \"name\":  f\"{name[0]} {name[1]}\",\n",
    "        \"email\": f\"{name[0].lower()}.{name[1].lower()}@gmail.com\",\n",
    "        \"age\": random.randint(18, 80),\n",
    "        \"phone\": generate_phone_number(),\n",
    "        \"access\": generate_access(),\n",
    "        \n",
    "    }\n",
    "    mockDataTeam.append(Team)\n",
    "\n",
    "# Print the generated contacts\n",
    "#for Team in mockDataTeam:\n",
    "    #print(Team, end=\", \")\n",
    "# Export the contacts data to a JSON file\n",
    "import json\n",
    "with open(\"Team.json\", \"w\") as json_file:\n",
    "    json.dump(mockDataTeam, json_file, indent=4)\n",
    "\n",
    "print(\"Teams data has been exported to contacts.json.\")"
   ]
  },
  {
   "cell_type": "code",
   "execution_count": 27,
   "metadata": {},
   "outputs": [
    {
     "name": "stdout",
     "output_type": "stream",
     "text": [
      "Data has been exported to data.json.\n"
     ]
    }
   ],
   "source": [
    "def generate_date():\n",
    "    day = random.randint(1, 28)\n",
    "    month = random.randint(1, 12)\n",
    "    year = random.randint(2010, 2024)\n",
    "    return f\"{day:02d}/{month:02d}/{year}\"\n",
    "\n",
    "# Generate 100 entries with random data\n",
    "mockDate = []\n",
    "for i in range(1, 101):\n",
    "    name = random_names[i-1]\n",
    "    entry = {\n",
    "        \"id\": i,\n",
    "        \"name\": f\"{name[0]} {name[1]}\",\n",
    "        \"email\": f\"{name[0].lower()}.{name[1].lower()}@gmail.com\",\n",
    "        \"cost\": f\"{random.uniform(10.0, 100.0):.2f}\",\n",
    "        \"phone\": generate_phone_number(),\n",
    "        \"date\": generate_date(),\n",
    "    }\n",
    "    mockDate.append(entry)\n",
    "\n",
    "# Export the data to a JSON file\n",
    "import json\n",
    "with open(\"date.json\", \"w\") as json_file:\n",
    "    json.dump(mockDate, json_file, indent=4)\n",
    "\n",
    "print(\"Data has been exported to data.json.\")\n"
   ]
  },
  {
   "cell_type": "code",
   "execution_count": 224,
   "metadata": {},
   "outputs": [],
   "source": [
    "import pandas as pd\n",
    "import matplotlib.pyplot as plt\n",
    "from matplotlib.figure import Figure\n",
    "from matplotlib import style\n",
    "import matplotlib.dates as mdates\n",
    "from datetime import datetime\n",
    "import seaborn as sns\n",
    "sns.set(style=\"white\", color_codes=True)\n",
    "df= pd.read_csv(\"admissions.csv\")"
   ]
  },
  {
   "cell_type": "code",
   "execution_count": 225,
   "metadata": {},
   "outputs": [
    {
     "data": {
      "text/html": [
       "<div>\n",
       "<style scoped>\n",
       "    .dataframe tbody tr th:only-of-type {\n",
       "        vertical-align: middle;\n",
       "    }\n",
       "\n",
       "    .dataframe tbody tr th {\n",
       "        vertical-align: top;\n",
       "    }\n",
       "\n",
       "    .dataframe thead th {\n",
       "        text-align: right;\n",
       "    }\n",
       "</style>\n",
       "<table border=\"1\" class=\"dataframe\">\n",
       "  <thead>\n",
       "    <tr style=\"text-align: right;\">\n",
       "      <th></th>\n",
       "      <th>Theme</th>\n",
       "      <th>IndDropdown</th>\n",
       "      <th>TimePeriod</th>\n",
       "      <th>Sex</th>\n",
       "      <th>Age</th>\n",
       "      <th>CategoryType</th>\n",
       "      <th>Category</th>\n",
       "      <th>SubCategory</th>\n",
       "      <th>Count</th>\n",
       "      <th>Denominator</th>\n",
       "      <th>Value</th>\n",
       "      <th>LCI</th>\n",
       "      <th>UCI</th>\n",
       "      <th>YAxisLabel</th>\n",
       "      <th>ValueNote</th>\n",
       "    </tr>\n",
       "  </thead>\n",
       "  <tbody>\n",
       "    <tr>\n",
       "      <th>0</th>\n",
       "      <td>Hospital admissions</td>\n",
       "      <td>Monthly admission rates</td>\n",
       "      <td>March 2020</td>\n",
       "      <td>Persons</td>\n",
       "      <td>All ages</td>\n",
       "      <td>England</td>\n",
       "      <td>England</td>\n",
       "      <td>England</td>\n",
       "      <td>13394.0</td>\n",
       "      <td>4802888.43</td>\n",
       "      <td>288.12</td>\n",
       "      <td>283.25</td>\n",
       "      <td>293.06</td>\n",
       "      <td>Age-standardised hospital admission rate per 1...</td>\n",
       "      <td>NaN</td>\n",
       "    </tr>\n",
       "    <tr>\n",
       "      <th>1</th>\n",
       "      <td>Hospital admissions</td>\n",
       "      <td>Monthly admission rates</td>\n",
       "      <td>April 2020</td>\n",
       "      <td>Persons</td>\n",
       "      <td>All ages</td>\n",
       "      <td>England</td>\n",
       "      <td>England</td>\n",
       "      <td>England</td>\n",
       "      <td>45519.0</td>\n",
       "      <td>4647956.55</td>\n",
       "      <td>1014.31</td>\n",
       "      <td>1004.99</td>\n",
       "      <td>1023.69</td>\n",
       "      <td>Age-standardised hospital admission rate per 1...</td>\n",
       "      <td>NaN</td>\n",
       "    </tr>\n",
       "    <tr>\n",
       "      <th>2</th>\n",
       "      <td>Hospital admissions</td>\n",
       "      <td>Monthly admission rates</td>\n",
       "      <td>May 2020</td>\n",
       "      <td>Persons</td>\n",
       "      <td>All ages</td>\n",
       "      <td>England</td>\n",
       "      <td>England</td>\n",
       "      <td>England</td>\n",
       "      <td>14167.0</td>\n",
       "      <td>4802888.43</td>\n",
       "      <td>304.53</td>\n",
       "      <td>299.52</td>\n",
       "      <td>309.60</td>\n",
       "      <td>Age-standardised hospital admission rate per 1...</td>\n",
       "      <td>NaN</td>\n",
       "    </tr>\n",
       "    <tr>\n",
       "      <th>3</th>\n",
       "      <td>Hospital admissions</td>\n",
       "      <td>Monthly admission rates</td>\n",
       "      <td>June 2020</td>\n",
       "      <td>Persons</td>\n",
       "      <td>All ages</td>\n",
       "      <td>England</td>\n",
       "      <td>England</td>\n",
       "      <td>England</td>\n",
       "      <td>5036.0</td>\n",
       "      <td>4647956.55</td>\n",
       "      <td>111.71</td>\n",
       "      <td>108.64</td>\n",
       "      <td>114.85</td>\n",
       "      <td>Age-standardised hospital admission rate per 1...</td>\n",
       "      <td>NaN</td>\n",
       "    </tr>\n",
       "    <tr>\n",
       "      <th>4</th>\n",
       "      <td>Hospital admissions</td>\n",
       "      <td>Monthly admission rates</td>\n",
       "      <td>July 2020</td>\n",
       "      <td>Persons</td>\n",
       "      <td>All ages</td>\n",
       "      <td>England</td>\n",
       "      <td>England</td>\n",
       "      <td>England</td>\n",
       "      <td>1833.0</td>\n",
       "      <td>4802888.43</td>\n",
       "      <td>39.48</td>\n",
       "      <td>37.69</td>\n",
       "      <td>41.33</td>\n",
       "      <td>Age-standardised hospital admission rate per 1...</td>\n",
       "      <td>NaN</td>\n",
       "    </tr>\n",
       "  </tbody>\n",
       "</table>\n",
       "</div>"
      ],
      "text/plain": [
       "                 Theme              IndDropdown  TimePeriod      Sex  \\\n",
       "0  Hospital admissions  Monthly admission rates  March 2020  Persons   \n",
       "1  Hospital admissions  Monthly admission rates  April 2020  Persons   \n",
       "2  Hospital admissions  Monthly admission rates    May 2020  Persons   \n",
       "3  Hospital admissions  Monthly admission rates   June 2020  Persons   \n",
       "4  Hospital admissions  Monthly admission rates   July 2020  Persons   \n",
       "\n",
       "        Age CategoryType Category SubCategory    Count  Denominator    Value  \\\n",
       "0  All ages      England  England     England  13394.0   4802888.43   288.12   \n",
       "1  All ages      England  England     England  45519.0   4647956.55  1014.31   \n",
       "2  All ages      England  England     England  14167.0   4802888.43   304.53   \n",
       "3  All ages      England  England     England   5036.0   4647956.55   111.71   \n",
       "4  All ages      England  England     England   1833.0   4802888.43    39.48   \n",
       "\n",
       "       LCI      UCI                                         YAxisLabel  \\\n",
       "0   283.25   293.06  Age-standardised hospital admission rate per 1...   \n",
       "1  1004.99  1023.69  Age-standardised hospital admission rate per 1...   \n",
       "2   299.52   309.60  Age-standardised hospital admission rate per 1...   \n",
       "3   108.64   114.85  Age-standardised hospital admission rate per 1...   \n",
       "4    37.69    41.33  Age-standardised hospital admission rate per 1...   \n",
       "\n",
       "  ValueNote  \n",
       "0       NaN  \n",
       "1       NaN  \n",
       "2       NaN  \n",
       "3       NaN  \n",
       "4       NaN  "
      ]
     },
     "execution_count": 225,
     "metadata": {},
     "output_type": "execute_result"
    }
   ],
   "source": [
    "df.head()"
   ]
  },
  {
   "cell_type": "code",
   "execution_count": 226,
   "metadata": {},
   "outputs": [],
   "source": [
    "#df['TimePeriod']= pd.to_datetime(df['TimePeriod'])"
   ]
  },
  {
   "cell_type": "code",
   "execution_count": 227,
   "metadata": {},
   "outputs": [
    {
     "data": {
      "text/plain": [
       "Text(0.5, -0.6, 'Fig.1.b Check for missing values')"
      ]
     },
     "execution_count": 227,
     "metadata": {},
     "output_type": "execute_result"
    },
    {
     "data": {
      "image/png": "[encoded data removed]",
      "text/plain": [
       "<Figure size 1000x600 with 1 Axes>"
      ]
     },
     "metadata": {},
     "output_type": "display_data"
    }
   ],
   "source": [
    "#Heatmap to show th distrubution of missing values\n",
    "plt.figure(figsize= (10,6))\n",
    "sns.heatmap(df.isnull(),\n",
    "            yticklabels =False,\n",
    "            cbar= False,\n",
    "            cmap= \"coolwarm\")\n",
    "plt.title(\"Fig.1.b Check for missing values\", y=-.6)"
   ]
  },
  {
   "cell_type": "code",
   "execution_count": 228,
   "metadata": {},
   "outputs": [],
   "source": [
    "#fill the missing values witht the mode of each column\n",
    "for col in df:\n",
    "    df[col].fillna(df[col].mode()[0], inplace=True)"
   ]
  },
  {
   "cell_type": "code",
   "execution_count": 229,
   "metadata": {},
   "outputs": [
    {
     "name": "stdout",
     "output_type": "stream",
     "text": [
      "<class 'pandas.core.frame.DataFrame'>\n",
      "RangeIndex: 135102 entries, 0 to 135101\n",
      "Data columns (total 15 columns):\n",
      " #   Column        Non-Null Count   Dtype  \n",
      "---  ------        --------------   -----  \n",
      " 0   Theme         135102 non-null  object \n",
      " 1   IndDropdown   135102 non-null  object \n",
      " 2   TimePeriod    135102 non-null  object \n",
      " 3   Sex           135102 non-null  object \n",
      " 4   Age           135102 non-null  object \n",
      " 5   CategoryType  135102 non-null  object \n",
      " 6   Category      135102 non-null  object \n",
      " 7   SubCategory   135102 non-null  object \n",
      " 8   Count         135102 non-null  float64\n",
      " 9   Denominator   135102 non-null  float64\n",
      " 10  Value         135102 non-null  float64\n",
      " 11  LCI           135102 non-null  float64\n",
      " 12  UCI           135102 non-null  float64\n",
      " 13  YAxisLabel    135102 non-null  object \n",
      " 14  ValueNote     135102 non-null  object \n",
      "dtypes: float64(5), object(10)\n",
      "memory usage: 15.5+ MB\n"
     ]
    }
   ],
   "source": [
    "df.info()"
   ]
  },
  {
   "cell_type": "code",
   "execution_count": 230,
   "metadata": {},
   "outputs": [
    {
     "data": {
      "text/plain": [
       "array(['Age-standardised hospital admission rate per 100,000 person-years',\n",
       "       'Age-specific hospital admission rate per 100,000 person-years',\n",
       "       'Age-standardised hospital admission rate per 100,000 population',\n",
       "       'Age-specific hospital admission rate per 100,000 population',\n",
       "       'Number of hospital admissions for COVID-19'], dtype=object)"
      ]
     },
     "execution_count": 230,
     "metadata": {},
     "output_type": "execute_result"
    }
   ],
   "source": [
    "df['YAxisLabel'].unique()"
   ]
  },
  {
   "cell_type": "code",
   "execution_count": 231,
   "metadata": {},
   "outputs": [
    {
     "data": {
      "text/plain": [
       "array(['England', 'Sex', 'Region', 'Age', 'Deprivation deciles',\n",
       "       'Ethnic groups', 'Ethnic groups (detailed Asian)',\n",
       "       'Ethnic groups (detailed Black)', 'Population density deciles'],\n",
       "      dtype=object)"
      ]
     },
     "execution_count": 231,
     "metadata": {},
     "output_type": "execute_result"
    }
   ],
   "source": [
    "df['CategoryType'].unique()"
   ]
  },
  {
   "cell_type": "code",
   "execution_count": 232,
   "metadata": {},
   "outputs": [
    {
     "data": {
      "text/plain": [
       "SubCategory\n",
       "England                     28776\n",
       "East Midlands               11814\n",
       "East of England             11814\n",
       "London                      11814\n",
       "North East                  11814\n",
       "North West                  11814\n",
       "South East                  11814\n",
       "South West                  11814\n",
       "West Midlands               11814\n",
       "Yorkshire and The Humber    11814\n",
       "Name: count, dtype: int64"
      ]
     },
     "execution_count": 232,
     "metadata": {},
     "output_type": "execute_result"
    }
   ],
   "source": [
    "df['SubCategory'].value_counts()"
   ]
  },
  {
   "cell_type": "code",
   "execution_count": 233,
   "metadata": {},
   "outputs": [
    {
     "name": "stdout",
     "output_type": "stream",
     "text": [
      "Sex\n",
      "Persons    825\n",
      "Male       495\n",
      "Female     495\n",
      "Name: count, dtype: int64\n",
      "Sex\n",
      "Male      495\n",
      "Female    495\n",
      "Name: count, dtype: int64\n"
     ]
    }
   ],
   "source": [
    "df1= df[df[\"YAxisLabel\"]==\"Age-specific hospital admission rate per 100,000 population\"]\n",
    "df2=df1[df1[\"CategoryType\"]==\"Ethnic groups\"]\n",
    "print(df2[\"Sex\"].value_counts())\n",
    "df3=df2[df2[\"Sex\"]!=\"Persons\"]\n",
    "df3.drop([\"Theme\", \"CategoryType\", \"ValueNote\"], axis=1, inplace=True)\n",
    "print(df3[\"Sex\"].value_counts())"
   ]
  },
  {
   "cell_type": "code",
   "execution_count": 234,
   "metadata": {},
   "outputs": [
    {
     "data": {
      "text/plain": [
       "Age\n",
       "All ages    5940\n",
       "0 - 24      1353\n",
       "25 - 49     1353\n",
       "50 - 64     1353\n",
       "65 - 84     1353\n",
       "85+         1353\n",
       "Name: count, dtype: int64"
      ]
     },
     "execution_count": 234,
     "metadata": {},
     "output_type": "execute_result"
    }
   ],
   "source": [
    "df1[\"Age\"].value_counts()"
   ]
  },
  {
   "cell_type": "code",
   "execution_count": 235,
   "metadata": {},
   "outputs": [
    {
     "name": "stdout",
     "output_type": "stream",
     "text": [
      "IndDropdown has:  1 unique values\n",
      "TimePeriod has:  33 unique values\n",
      "Sex has:  2 unique values\n",
      "Age has:  5 unique values\n",
      "Category has:  3 unique values\n",
      "SubCategory has:  1 unique values\n",
      "Count has:  505 unique values\n",
      "Denominator has:  30 unique values\n",
      "Value has:  877 unique values\n",
      "LCI has:  876 unique values\n",
      "UCI has:  874 unique values\n",
      "YAxisLabel has:  1 unique values\n"
     ]
    }
   ],
   "source": [
    "#df3[\"Theme\"].value_counts()\n",
    "#df3.info()\n",
    "for column in df3.columns:\n",
    "    print(column, 'has: ', df3[column].nunique(),  'unique values')"
   ]
  },
  {
   "cell_type": "code",
   "execution_count": 236,
   "metadata": {},
   "outputs": [],
   "source": [
    "import warnings # current version of seaborn generates a bunch of warnings that we'll ignore\n",
    "warnings.filterwarnings(\"ignore\")"
   ]
  },
  {
   "cell_type": "code",
   "execution_count": 237,
   "metadata": {},
   "outputs": [
    {
     "data": {
      "text/plain": [
       "Category\n",
       "White                             330\n",
       "Mixed / Multiple ethnic groups    330\n",
       "Any other ethnic group            330\n",
       "Name: count, dtype: int64"
      ]
     },
     "execution_count": 237,
     "metadata": {},
     "output_type": "execute_result"
    }
   ],
   "source": [
    "df3[\"Category\"].value_counts()"
   ]
  },
  {
   "cell_type": "code",
   "execution_count": 238,
   "metadata": {},
   "outputs": [
    {
     "data": {
      "text/plain": [
       "<Axes: xlabel='Category', ylabel='count'>"
      ]
     },
     "execution_count": 238,
     "metadata": {},
     "output_type": "execute_result"
    },
    {
     "data": {
      "image/png": "[encoded data removed]",
      "text/plain": [
       "<Figure size 640x480 with 1 Axes>"
      ]
     },
     "metadata": {},
     "output_type": "display_data"
    }
   ],
   "source": [
    "sns.countplot(x= \"Category\",\n",
    "              data= df3,\n",
    "              palette = \"twilight_shifted\")"
   ]
  },
  {
   "cell_type": "code",
   "execution_count": 239,
   "metadata": {},
   "outputs": [
    {
     "data": {
      "text/plain": [
       "<Axes: xlabel='Age', ylabel='count'>"
      ]
     },
     "execution_count": 239,
     "metadata": {},
     "output_type": "execute_result"
    },
    {
     "data": {
      "image/png": "[encoded data removed]",
      "text/plain": [
       "<Figure size 640x480 with 1 Axes>"
      ]
     },
     "metadata": {},
     "output_type": "display_data"
    }
   ],
   "source": [
    "sns.countplot(x= \"Age\",\n",
    "              data= df3,\n",
    "              palette = \"twilight_shifted\")"
   ]
  },
  {
   "cell_type": "code",
   "execution_count": 240,
   "metadata": {},
   "outputs": [
    {
     "data": {
      "text/plain": [
       "<Axes: xlabel='SubCategory', ylabel='count'>"
      ]
     },
     "execution_count": 240,
     "metadata": {},
     "output_type": "execute_result"
    },
    {
     "data": {
      "image/png": "[encoded data removed]",
      "text/plain": [
       "<Figure size 640x480 with 1 Axes>"
      ]
     },
     "metadata": {},
     "output_type": "display_data"
    }
   ],
   "source": [
    "df4=df1[df1[\"SubCategory\"]!=\"England\"]\n",
    "sns.countplot(x= \"SubCategory\",\n",
    "              data= df4,\n",
    "              palette = \"twilight_shifted\")"
   ]
  },
  {
   "cell_type": "code",
   "execution_count": 241,
   "metadata": {},
   "outputs": [
    {
     "name": "stdout",
     "output_type": "stream",
     "text": [
      "Theme has:  1 unique values\n",
      "IndDropdown has:  1 unique values\n",
      "TimePeriod has:  33 unique values\n",
      "Sex has:  3 unique values\n",
      "Age has:  1 unique values\n",
      "CategoryType has:  1 unique values\n",
      "Category has:  6 unique values\n",
      "SubCategory has:  9 unique values\n",
      "Count has:  1802 unique values\n",
      "Denominator has:  162 unique values\n",
      "Value has:  5196 unique values\n",
      "LCI has:  5180 unique values\n",
      "UCI has:  5188 unique values\n",
      "YAxisLabel has:  1 unique values\n",
      "ValueNote has:  2 unique values\n"
     ]
    }
   ],
   "source": [
    "for column in df4.columns:\n",
    "    print(column, 'has: ', df4[column].nunique(),  'unique values')"
   ]
  },
  {
   "cell_type": "code",
   "execution_count": 242,
   "metadata": {},
   "outputs": [
    {
     "data": {
      "text/html": [
       "<div>\n",
       "<style scoped>\n",
       "    .dataframe tbody tr th:only-of-type {\n",
       "        vertical-align: middle;\n",
       "    }\n",
       "\n",
       "    .dataframe tbody tr th {\n",
       "        vertical-align: top;\n",
       "    }\n",
       "\n",
       "    .dataframe thead th {\n",
       "        text-align: right;\n",
       "    }\n",
       "</style>\n",
       "<table border=\"1\" class=\"dataframe\">\n",
       "  <thead>\n",
       "    <tr style=\"text-align: right;\">\n",
       "      <th></th>\n",
       "      <th>Theme</th>\n",
       "      <th>IndDropdown</th>\n",
       "      <th>TimePeriod</th>\n",
       "      <th>Age</th>\n",
       "      <th>CategoryType</th>\n",
       "      <th>Category</th>\n",
       "      <th>SubCategory</th>\n",
       "      <th>Count</th>\n",
       "      <th>Denominator</th>\n",
       "      <th>Value</th>\n",
       "      <th>LCI</th>\n",
       "      <th>UCI</th>\n",
       "      <th>YAxisLabel</th>\n",
       "      <th>ValueNote</th>\n",
       "    </tr>\n",
       "    <tr>\n",
       "      <th>Sex</th>\n",
       "      <th></th>\n",
       "      <th></th>\n",
       "      <th></th>\n",
       "      <th></th>\n",
       "      <th></th>\n",
       "      <th></th>\n",
       "      <th></th>\n",
       "      <th></th>\n",
       "      <th></th>\n",
       "      <th></th>\n",
       "      <th></th>\n",
       "      <th></th>\n",
       "      <th></th>\n",
       "      <th></th>\n",
       "    </tr>\n",
       "  </thead>\n",
       "  <tbody>\n",
       "    <tr>\n",
       "      <th>Female</th>\n",
       "      <td>Hospital admissionsHospital admissionsHospital...</td>\n",
       "      <td>Cumulative admission ratesCumulative admission...</td>\n",
       "      <td>March 2020March 2020March 2020March 2020March ...</td>\n",
       "      <td>All agesAll agesAll agesAll agesAll agesAll ag...</td>\n",
       "      <td>AgeAgeAgeAgeAgeAgeAgeAgeAgeAgeAgeAgeAgeAgeAgeA...</td>\n",
       "      <td>0 - 240 - 240 - 240 - 240 - 240 - 240 - 240 - ...</td>\n",
       "      <td>East MidlandsEast of EnglandLondonNorth EastNo...</td>\n",
       "      <td>4098095.0</td>\n",
       "      <td>9.427216e+08</td>\n",
       "      <td>1619416.87</td>\n",
       "      <td>1557683.97</td>\n",
       "      <td>1683295.10</td>\n",
       "      <td>Age-specific hospital admission rate per 100,0...</td>\n",
       "      <td>count rounded to nearest 5 for disclosure cont...</td>\n",
       "    </tr>\n",
       "    <tr>\n",
       "      <th>Male</th>\n",
       "      <td>Hospital admissionsHospital admissionsHospital...</td>\n",
       "      <td>Cumulative admission ratesCumulative admission...</td>\n",
       "      <td>March 2020March 2020March 2020March 2020March ...</td>\n",
       "      <td>All agesAll agesAll agesAll agesAll agesAll ag...</td>\n",
       "      <td>AgeAgeAgeAgeAgeAgeAgeAgeAgeAgeAgeAgeAgeAgeAgeA...</td>\n",
       "      <td>0 - 240 - 240 - 240 - 240 - 240 - 240 - 240 - ...</td>\n",
       "      <td>East MidlandsEast of EnglandLondonNorth EastNo...</td>\n",
       "      <td>5021900.0</td>\n",
       "      <td>9.234330e+08</td>\n",
       "      <td>2460749.32</td>\n",
       "      <td>2371322.99</td>\n",
       "      <td>2553106.41</td>\n",
       "      <td>Age-specific hospital admission rate per 100,0...</td>\n",
       "      <td>count rounded to nearest 5 for disclosure cont...</td>\n",
       "    </tr>\n",
       "    <tr>\n",
       "      <th>Persons</th>\n",
       "      <td>Hospital admissionsHospital admissionsHospital...</td>\n",
       "      <td>Cumulative admission ratesCumulative admission...</td>\n",
       "      <td>March 2020March 2020March 2020March 2020March ...</td>\n",
       "      <td>All agesAll agesAll agesAll agesAll agesAll ag...</td>\n",
       "      <td>AgeAgeAgeAgeAgeAgeAgeAgeAgeAgeAgeAgeAgeAgeAgeA...</td>\n",
       "      <td>0 - 240 - 240 - 240 - 240 - 240 - 240 - 240 - ...</td>\n",
       "      <td>East MidlandsEast of EnglandLondonNorth EastNo...</td>\n",
       "      <td>9129210.0</td>\n",
       "      <td>1.866155e+09</td>\n",
       "      <td>1972871.58</td>\n",
       "      <td>1921042.91</td>\n",
       "      <td>2025910.23</td>\n",
       "      <td>Age-specific hospital admission rate per 100,0...</td>\n",
       "      <td>count rounded to nearest 5 for disclosure cont...</td>\n",
       "    </tr>\n",
       "  </tbody>\n",
       "</table>\n",
       "</div>"
      ],
      "text/plain": [
       "                                                     Theme  \\\n",
       "Sex                                                          \n",
       "Female   Hospital admissionsHospital admissionsHospital...   \n",
       "Male     Hospital admissionsHospital admissionsHospital...   \n",
       "Persons  Hospital admissionsHospital admissionsHospital...   \n",
       "\n",
       "                                               IndDropdown  \\\n",
       "Sex                                                          \n",
       "Female   Cumulative admission ratesCumulative admission...   \n",
       "Male     Cumulative admission ratesCumulative admission...   \n",
       "Persons  Cumulative admission ratesCumulative admission...   \n",
       "\n",
       "                                                TimePeriod  \\\n",
       "Sex                                                          \n",
       "Female   March 2020March 2020March 2020March 2020March ...   \n",
       "Male     March 2020March 2020March 2020March 2020March ...   \n",
       "Persons  March 2020March 2020March 2020March 2020March ...   \n",
       "\n",
       "                                                       Age  \\\n",
       "Sex                                                          \n",
       "Female   All agesAll agesAll agesAll agesAll agesAll ag...   \n",
       "Male     All agesAll agesAll agesAll agesAll agesAll ag...   \n",
       "Persons  All agesAll agesAll agesAll agesAll agesAll ag...   \n",
       "\n",
       "                                              CategoryType  \\\n",
       "Sex                                                          \n",
       "Female   AgeAgeAgeAgeAgeAgeAgeAgeAgeAgeAgeAgeAgeAgeAgeA...   \n",
       "Male     AgeAgeAgeAgeAgeAgeAgeAgeAgeAgeAgeAgeAgeAgeAgeA...   \n",
       "Persons  AgeAgeAgeAgeAgeAgeAgeAgeAgeAgeAgeAgeAgeAgeAgeA...   \n",
       "\n",
       "                                                  Category  \\\n",
       "Sex                                                          \n",
       "Female   0 - 240 - 240 - 240 - 240 - 240 - 240 - 240 - ...   \n",
       "Male     0 - 240 - 240 - 240 - 240 - 240 - 240 - 240 - ...   \n",
       "Persons  0 - 240 - 240 - 240 - 240 - 240 - 240 - 240 - ...   \n",
       "\n",
       "                                               SubCategory      Count  \\\n",
       "Sex                                                                     \n",
       "Female   East MidlandsEast of EnglandLondonNorth EastNo...  4098095.0   \n",
       "Male     East MidlandsEast of EnglandLondonNorth EastNo...  5021900.0   \n",
       "Persons  East MidlandsEast of EnglandLondonNorth EastNo...  9129210.0   \n",
       "\n",
       "          Denominator       Value         LCI         UCI  \\\n",
       "Sex                                                         \n",
       "Female   9.427216e+08  1619416.87  1557683.97  1683295.10   \n",
       "Male     9.234330e+08  2460749.32  2371322.99  2553106.41   \n",
       "Persons  1.866155e+09  1972871.58  1921042.91  2025910.23   \n",
       "\n",
       "                                                YAxisLabel  \\\n",
       "Sex                                                          \n",
       "Female   Age-specific hospital admission rate per 100,0...   \n",
       "Male     Age-specific hospital admission rate per 100,0...   \n",
       "Persons  Age-specific hospital admission rate per 100,0...   \n",
       "\n",
       "                                                 ValueNote  \n",
       "Sex                                                         \n",
       "Female   count rounded to nearest 5 for disclosure cont...  \n",
       "Male     count rounded to nearest 5 for disclosure cont...  \n",
       "Persons  count rounded to nearest 5 for disclosure cont...  "
      ]
     },
     "execution_count": 242,
     "metadata": {},
     "output_type": "execute_result"
    }
   ],
   "source": [
    "sex=df4.groupby('Sex').sum()\n",
    "sex"
   ]
  },
  {
   "cell_type": "code",
   "execution_count": 243,
   "metadata": {},
   "outputs": [
    {
     "data": {
      "text/html": [
       "<div>\n",
       "<style scoped>\n",
       "    .dataframe tbody tr th:only-of-type {\n",
       "        vertical-align: middle;\n",
       "    }\n",
       "\n",
       "    .dataframe tbody tr th {\n",
       "        vertical-align: top;\n",
       "    }\n",
       "\n",
       "    .dataframe thead th {\n",
       "        text-align: right;\n",
       "    }\n",
       "</style>\n",
       "<table border=\"1\" class=\"dataframe\">\n",
       "  <thead>\n",
       "    <tr style=\"text-align: right;\">\n",
       "      <th></th>\n",
       "      <th>Theme</th>\n",
       "      <th>IndDropdown</th>\n",
       "      <th>Sex</th>\n",
       "      <th>Age</th>\n",
       "      <th>CategoryType</th>\n",
       "      <th>Category</th>\n",
       "      <th>SubCategory</th>\n",
       "      <th>Count</th>\n",
       "      <th>Denominator</th>\n",
       "      <th>Value</th>\n",
       "      <th>LCI</th>\n",
       "      <th>UCI</th>\n",
       "      <th>YAxisLabel</th>\n",
       "      <th>ValueNote</th>\n",
       "    </tr>\n",
       "    <tr>\n",
       "      <th>TimePeriod</th>\n",
       "      <th></th>\n",
       "      <th></th>\n",
       "      <th></th>\n",
       "      <th></th>\n",
       "      <th></th>\n",
       "      <th></th>\n",
       "      <th></th>\n",
       "      <th></th>\n",
       "      <th></th>\n",
       "      <th></th>\n",
       "      <th></th>\n",
       "      <th></th>\n",
       "      <th></th>\n",
       "      <th></th>\n",
       "    </tr>\n",
       "  </thead>\n",
       "  <tbody>\n",
       "    <tr>\n",
       "      <th>March 2020</th>\n",
       "      <td>Hospital admissions</td>\n",
       "      <td>Cumulative admission rates</td>\n",
       "      <td>Persons</td>\n",
       "      <td>All ages</td>\n",
       "      <td>Age</td>\n",
       "      <td>0 - 24</td>\n",
       "      <td>East Midlands</td>\n",
       "      <td>30.0</td>\n",
       "      <td>1440747.0</td>\n",
       "      <td>2.08</td>\n",
       "      <td>1.40</td>\n",
       "      <td>2.97</td>\n",
       "      <td>Age-specific hospital admission rate per 100,0...</td>\n",
       "      <td>count rounded to nearest 5 for disclosure control</td>\n",
       "    </tr>\n",
       "    <tr>\n",
       "      <th>March 2020</th>\n",
       "      <td>Hospital admissions</td>\n",
       "      <td>Cumulative admission rates</td>\n",
       "      <td>Persons</td>\n",
       "      <td>All ages</td>\n",
       "      <td>Age</td>\n",
       "      <td>0 - 24</td>\n",
       "      <td>East of England</td>\n",
       "      <td>40.0</td>\n",
       "      <td>1817548.0</td>\n",
       "      <td>2.20</td>\n",
       "      <td>1.57</td>\n",
       "      <td>3.00</td>\n",
       "      <td>Age-specific hospital admission rate per 100,0...</td>\n",
       "      <td>count rounded to nearest 5 for disclosure control</td>\n",
       "    </tr>\n",
       "    <tr>\n",
       "      <th>March 2020</th>\n",
       "      <td>Hospital admissions</td>\n",
       "      <td>Cumulative admission rates</td>\n",
       "      <td>Persons</td>\n",
       "      <td>All ages</td>\n",
       "      <td>Age</td>\n",
       "      <td>0 - 24</td>\n",
       "      <td>London</td>\n",
       "      <td>140.0</td>\n",
       "      <td>2783935.0</td>\n",
       "      <td>5.03</td>\n",
       "      <td>4.23</td>\n",
       "      <td>5.93</td>\n",
       "      <td>Age-specific hospital admission rate per 100,0...</td>\n",
       "      <td>count rounded to nearest 5 for disclosure control</td>\n",
       "    </tr>\n",
       "    <tr>\n",
       "      <th>March 2020</th>\n",
       "      <td>Hospital admissions</td>\n",
       "      <td>Cumulative admission rates</td>\n",
       "      <td>Persons</td>\n",
       "      <td>All ages</td>\n",
       "      <td>Age</td>\n",
       "      <td>0 - 24</td>\n",
       "      <td>North East</td>\n",
       "      <td>15.0</td>\n",
       "      <td>771518.0</td>\n",
       "      <td>1.94</td>\n",
       "      <td>1.09</td>\n",
       "      <td>3.21</td>\n",
       "      <td>Age-specific hospital admission rate per 100,0...</td>\n",
       "      <td>count rounded to nearest 5 for disclosure control</td>\n",
       "    </tr>\n",
       "    <tr>\n",
       "      <th>March 2020</th>\n",
       "      <td>Hospital admissions</td>\n",
       "      <td>Cumulative admission rates</td>\n",
       "      <td>Persons</td>\n",
       "      <td>All ages</td>\n",
       "      <td>Age</td>\n",
       "      <td>0 - 24</td>\n",
       "      <td>North West</td>\n",
       "      <td>60.0</td>\n",
       "      <td>2199441.0</td>\n",
       "      <td>2.73</td>\n",
       "      <td>2.08</td>\n",
       "      <td>3.51</td>\n",
       "      <td>Age-specific hospital admission rate per 100,0...</td>\n",
       "      <td>count rounded to nearest 5 for disclosure control</td>\n",
       "    </tr>\n",
       "  </tbody>\n",
       "</table>\n",
       "</div>"
      ],
      "text/plain": [
       "                          Theme                 IndDropdown      Sex  \\\n",
       "TimePeriod                                                             \n",
       "March 2020  Hospital admissions  Cumulative admission rates  Persons   \n",
       "March 2020  Hospital admissions  Cumulative admission rates  Persons   \n",
       "March 2020  Hospital admissions  Cumulative admission rates  Persons   \n",
       "March 2020  Hospital admissions  Cumulative admission rates  Persons   \n",
       "March 2020  Hospital admissions  Cumulative admission rates  Persons   \n",
       "\n",
       "                 Age CategoryType Category      SubCategory  Count  \\\n",
       "TimePeriod                                                           \n",
       "March 2020  All ages          Age   0 - 24    East Midlands   30.0   \n",
       "March 2020  All ages          Age   0 - 24  East of England   40.0   \n",
       "March 2020  All ages          Age   0 - 24           London  140.0   \n",
       "March 2020  All ages          Age   0 - 24       North East   15.0   \n",
       "March 2020  All ages          Age   0 - 24       North West   60.0   \n",
       "\n",
       "            Denominator  Value   LCI   UCI  \\\n",
       "TimePeriod                                   \n",
       "March 2020    1440747.0   2.08  1.40  2.97   \n",
       "March 2020    1817548.0   2.20  1.57  3.00   \n",
       "March 2020    2783935.0   5.03  4.23  5.93   \n",
       "March 2020     771518.0   1.94  1.09  3.21   \n",
       "March 2020    2199441.0   2.73  2.08  3.51   \n",
       "\n",
       "                                                   YAxisLabel  \\\n",
       "TimePeriod                                                      \n",
       "March 2020  Age-specific hospital admission rate per 100,0...   \n",
       "March 2020  Age-specific hospital admission rate per 100,0...   \n",
       "March 2020  Age-specific hospital admission rate per 100,0...   \n",
       "March 2020  Age-specific hospital admission rate per 100,0...   \n",
       "March 2020  Age-specific hospital admission rate per 100,0...   \n",
       "\n",
       "                                                    ValueNote  \n",
       "TimePeriod                                                     \n",
       "March 2020  count rounded to nearest 5 for disclosure control  \n",
       "March 2020  count rounded to nearest 5 for disclosure control  \n",
       "March 2020  count rounded to nearest 5 for disclosure control  \n",
       "March 2020  count rounded to nearest 5 for disclosure control  \n",
       "March 2020  count rounded to nearest 5 for disclosure control  "
      ]
     },
     "execution_count": 243,
     "metadata": {},
     "output_type": "execute_result"
    }
   ],
   "source": [
    "df4.head().set_index(\"TimePeriod\")"
   ]
  },
  {
   "cell_type": "code",
   "execution_count": 244,
   "metadata": {},
   "outputs": [
    {
     "data": {
      "image/png": "[encoded data removed]",
      "text/plain": [
       "<Figure size 640x480 with 1 Axes>"
      ]
     },
     "metadata": {},
     "output_type": "display_data"
    }
   ],
   "source": [
    "# Aggregate counts based on 'Sex' column\n",
    "sex_counts = df4[df4[\"Sex\"] != \"Persons\"].groupby('Sex')['Count'].sum()\n",
    "\n",
    "# Define a color palette\n",
    "palette = sns.color_palette(\"pastel\")\n",
    "\n",
    "# Plotting\n",
    "sex_counts.plot(kind='bar', color=palette)\n",
    "plt.title('Aggregated Counts by Sex')\n",
    "plt.xlabel('Sex')\n",
    "plt.ylabel('Aggregated Count')\n",
    "plt.show()"
   ]
  },
  {
   "cell_type": "code",
   "execution_count": 245,
   "metadata": {},
   "outputs": [
    {
     "data": {
      "image/png": "[encoded data removed]",
      "text/plain": [
       "<Figure size 640x480 with 1 Axes>"
      ]
     },
     "metadata": {},
     "output_type": "display_data"
    }
   ],
   "source": [
    "# Aggregate counts based on 'Sex' column\n",
    "\n",
    "Age_counts = df3[df3[\"Age\"] != \"All ages\"].groupby(\"Age\")[\"Count\"].sum()\n",
    "# Define a color palette\n",
    "palette = sns.color_palette(\"pastel\")\n",
    "\n",
    "# Plotting\n",
    "Age_counts.plot(kind='bar', color=palette)\n",
    "plt.title('Aggregated Counts by Sex')\n",
    "plt.xlabel('Sex')\n",
    "plt.ylabel('Aggregated Count')\n",
    "plt.show()"
   ]
  },
  {
   "cell_type": "code",
   "execution_count": 246,
   "metadata": {},
   "outputs": [
    {
     "data": {
      "image/png": "[encoded data removed]",
      "text/plain": [
       "<Figure size 1200x800 with 1 Axes>"
      ]
     },
     "metadata": {},
     "output_type": "display_data"
    }
   ],
   "source": [
    "# Filter the DataFrame to exclude rows where Age is \"England\"\n",
    "##filtered_df = df3[df3[\"SubCategory\"] != \"England\"]\n",
    "filtered_df2 = df3[df3[\"Age\"] != \"All ages\"]\n",
    "# Plotting\n",
    "plt.figure(figsize=(12, 8))\n",
    "sns.barplot(data=df3, x=\"Age\", y=\"Count\", hue=\"SubCategory\", palette=\"husl\")\n",
    "plt.title(\"Counts for Different Age Groups (Excluding England) by SubCategory\")\n",
    "plt.xlabel(\"Age Groups\")\n",
    "plt.ylabel(\"Total Count\")\n",
    "plt.xticks(rotation=45, ha=\"right\")\n",
    "plt.legend(title=\"SubCategory\", bbox_to_anchor=(1, 1))\n",
    "plt.tight_layout()\n",
    "plt.show()"
   ]
  },
  {
   "cell_type": "code",
   "execution_count": 247,
   "metadata": {},
   "outputs": [],
   "source": [
    "filtered_df2.drop([\"YAxisLabel\", \"Denominator\", \"SubCategory\"], axis=1, inplace=True)"
   ]
  },
  {
   "cell_type": "code",
   "execution_count": 251,
   "metadata": {},
   "outputs": [],
   "source": [
    "# Export the filtered DataFrame to a JSON file\n",
    "\n",
    "g.to_json(\"filtered_data2.json\", orient=\"records\", indent=4)"
   ]
  },
  {
   "cell_type": "code",
   "execution_count": 249,
   "metadata": {},
   "outputs": [],
   "source": [
    "g=filtered_df2.groupby(['TimePeriod','Sex',\"Category\"]).sum()[[\"Count\", \"Value\",\n",
    "        \"LCI\",\n",
    "        \"UCI\"]].reset_index()"
   ]
  },
  {
   "cell_type": "code",
   "execution_count": 250,
   "metadata": {},
   "outputs": [
    {
     "data": {
      "text/html": [
       "<div>\n",
       "<style scoped>\n",
       "    .dataframe tbody tr th:only-of-type {\n",
       "        vertical-align: middle;\n",
       "    }\n",
       "\n",
       "    .dataframe tbody tr th {\n",
       "        vertical-align: top;\n",
       "    }\n",
       "\n",
       "    .dataframe thead th {\n",
       "        text-align: right;\n",
       "    }\n",
       "</style>\n",
       "<table border=\"1\" class=\"dataframe\">\n",
       "  <thead>\n",
       "    <tr style=\"text-align: right;\">\n",
       "      <th></th>\n",
       "      <th>TimePeriod</th>\n",
       "      <th>Sex</th>\n",
       "      <th>Category</th>\n",
       "      <th>Count</th>\n",
       "      <th>Value</th>\n",
       "      <th>LCI</th>\n",
       "      <th>UCI</th>\n",
       "    </tr>\n",
       "  </thead>\n",
       "  <tbody>\n",
       "    <tr>\n",
       "      <th>0</th>\n",
       "      <td>April 2020</td>\n",
       "      <td>Female</td>\n",
       "      <td>Any other ethnic group</td>\n",
       "      <td>270.0</td>\n",
       "      <td>1570.00</td>\n",
       "      <td>1074.95</td>\n",
       "      <td>2233.31</td>\n",
       "    </tr>\n",
       "    <tr>\n",
       "      <th>1</th>\n",
       "      <td>April 2020</td>\n",
       "      <td>Female</td>\n",
       "      <td>Mixed / Multiple ethnic groups</td>\n",
       "      <td>335.0</td>\n",
       "      <td>1099.76</td>\n",
       "      <td>760.00</td>\n",
       "      <td>1564.89</td>\n",
       "    </tr>\n",
       "    <tr>\n",
       "      <th>2</th>\n",
       "      <td>April 2020</td>\n",
       "      <td>Female</td>\n",
       "      <td>White</td>\n",
       "      <td>18595.0</td>\n",
       "      <td>864.74</td>\n",
       "      <td>840.55</td>\n",
       "      <td>889.47</td>\n",
       "    </tr>\n",
       "    <tr>\n",
       "      <th>3</th>\n",
       "      <td>April 2020</td>\n",
       "      <td>Male</td>\n",
       "      <td>Any other ethnic group</td>\n",
       "      <td>605.0</td>\n",
       "      <td>1996.16</td>\n",
       "      <td>1444.67</td>\n",
       "      <td>2750.58</td>\n",
       "    </tr>\n",
       "    <tr>\n",
       "      <th>4</th>\n",
       "      <td>April 2020</td>\n",
       "      <td>Male</td>\n",
       "      <td>Mixed / Multiple ethnic groups</td>\n",
       "      <td>400.0</td>\n",
       "      <td>1766.19</td>\n",
       "      <td>1262.48</td>\n",
       "      <td>2432.69</td>\n",
       "    </tr>\n",
       "    <tr>\n",
       "      <th>5</th>\n",
       "      <td>April 2020</td>\n",
       "      <td>Male</td>\n",
       "      <td>White</td>\n",
       "      <td>25145.0</td>\n",
       "      <td>1436.36</td>\n",
       "      <td>1398.58</td>\n",
       "      <td>1474.94</td>\n",
       "    </tr>\n",
       "    <tr>\n",
       "      <th>6</th>\n",
       "      <td>April 2021</td>\n",
       "      <td>Female</td>\n",
       "      <td>Any other ethnic group</td>\n",
       "      <td>1270.0</td>\n",
       "      <td>5639.82</td>\n",
       "      <td>4687.35</td>\n",
       "      <td>6756.16</td>\n",
       "    </tr>\n",
       "    <tr>\n",
       "      <th>7</th>\n",
       "      <td>April 2021</td>\n",
       "      <td>Female</td>\n",
       "      <td>Mixed / Multiple ethnic groups</td>\n",
       "      <td>1390.0</td>\n",
       "      <td>4814.14</td>\n",
       "      <td>4039.48</td>\n",
       "      <td>5709.62</td>\n",
       "    </tr>\n",
       "    <tr>\n",
       "      <th>8</th>\n",
       "      <td>April 2021</td>\n",
       "      <td>Female</td>\n",
       "      <td>White</td>\n",
       "      <td>89170.0</td>\n",
       "      <td>3851.71</td>\n",
       "      <td>3800.23</td>\n",
       "      <td>3903.77</td>\n",
       "    </tr>\n",
       "    <tr>\n",
       "      <th>9</th>\n",
       "      <td>April 2021</td>\n",
       "      <td>Male</td>\n",
       "      <td>Any other ethnic group</td>\n",
       "      <td>2585.0</td>\n",
       "      <td>7530.12</td>\n",
       "      <td>6431.66</td>\n",
       "      <td>8825.27</td>\n",
       "    </tr>\n",
       "    <tr>\n",
       "      <th>10</th>\n",
       "      <td>April 2021</td>\n",
       "      <td>Male</td>\n",
       "      <td>Mixed / Multiple ethnic groups</td>\n",
       "      <td>1740.0</td>\n",
       "      <td>6494.24</td>\n",
       "      <td>5492.70</td>\n",
       "      <td>7654.04</td>\n",
       "    </tr>\n",
       "    <tr>\n",
       "      <th>11</th>\n",
       "      <td>April 2021</td>\n",
       "      <td>Male</td>\n",
       "      <td>White</td>\n",
       "      <td>109950.0</td>\n",
       "      <td>5795.97</td>\n",
       "      <td>5719.79</td>\n",
       "      <td>5872.97</td>\n",
       "    </tr>\n",
       "    <tr>\n",
       "      <th>12</th>\n",
       "      <td>April 2022</td>\n",
       "      <td>Female</td>\n",
       "      <td>Any other ethnic group</td>\n",
       "      <td>2255.0</td>\n",
       "      <td>8488.70</td>\n",
       "      <td>7319.70</td>\n",
       "      <td>9820.57</td>\n",
       "    </tr>\n",
       "    <tr>\n",
       "      <th>13</th>\n",
       "      <td>April 2022</td>\n",
       "      <td>Female</td>\n",
       "      <td>Mixed / Multiple ethnic groups</td>\n",
       "      <td>2805.0</td>\n",
       "      <td>7638.13</td>\n",
       "      <td>6652.06</td>\n",
       "      <td>8744.18</td>\n",
       "    </tr>\n",
       "    <tr>\n",
       "      <th>14</th>\n",
       "      <td>April 2022</td>\n",
       "      <td>Female</td>\n",
       "      <td>White</td>\n",
       "      <td>150875.0</td>\n",
       "      <td>5834.72</td>\n",
       "      <td>5770.52</td>\n",
       "      <td>5899.51</td>\n",
       "    </tr>\n",
       "    <tr>\n",
       "      <th>15</th>\n",
       "      <td>April 2022</td>\n",
       "      <td>Male</td>\n",
       "      <td>Any other ethnic group</td>\n",
       "      <td>3985.0</td>\n",
       "      <td>11365.10</td>\n",
       "      <td>9976.08</td>\n",
       "      <td>12949.20</td>\n",
       "    </tr>\n",
       "    <tr>\n",
       "      <th>16</th>\n",
       "      <td>April 2022</td>\n",
       "      <td>Male</td>\n",
       "      <td>Mixed / Multiple ethnic groups</td>\n",
       "      <td>3050.0</td>\n",
       "      <td>9262.64</td>\n",
       "      <td>8069.26</td>\n",
       "      <td>10613.52</td>\n",
       "    </tr>\n",
       "    <tr>\n",
       "      <th>17</th>\n",
       "      <td>April 2022</td>\n",
       "      <td>Male</td>\n",
       "      <td>White</td>\n",
       "      <td>172815.0</td>\n",
       "      <td>8593.96</td>\n",
       "      <td>8500.48</td>\n",
       "      <td>8688.24</td>\n",
       "    </tr>\n",
       "    <tr>\n",
       "      <th>18</th>\n",
       "      <td>August 2020</td>\n",
       "      <td>Female</td>\n",
       "      <td>Any other ethnic group</td>\n",
       "      <td>350.0</td>\n",
       "      <td>1732.62</td>\n",
       "      <td>1219.37</td>\n",
       "      <td>2414.03</td>\n",
       "    </tr>\n",
       "    <tr>\n",
       "      <th>19</th>\n",
       "      <td>August 2020</td>\n",
       "      <td>Female</td>\n",
       "      <td>Mixed / Multiple ethnic groups</td>\n",
       "      <td>435.0</td>\n",
       "      <td>1453.71</td>\n",
       "      <td>1056.40</td>\n",
       "      <td>1975.33</td>\n",
       "    </tr>\n",
       "  </tbody>\n",
       "</table>\n",
       "</div>"
      ],
      "text/plain": [
       "     TimePeriod     Sex                        Category     Count     Value  \\\n",
       "0    April 2020  Female          Any other ethnic group     270.0   1570.00   \n",
       "1    April 2020  Female  Mixed / Multiple ethnic groups     335.0   1099.76   \n",
       "2    April 2020  Female                           White   18595.0    864.74   \n",
       "3    April 2020    Male          Any other ethnic group     605.0   1996.16   \n",
       "4    April 2020    Male  Mixed / Multiple ethnic groups     400.0   1766.19   \n",
       "5    April 2020    Male                           White   25145.0   1436.36   \n",
       "6    April 2021  Female          Any other ethnic group    1270.0   5639.82   \n",
       "7    April 2021  Female  Mixed / Multiple ethnic groups    1390.0   4814.14   \n",
       "8    April 2021  Female                           White   89170.0   3851.71   \n",
       "9    April 2021    Male          Any other ethnic group    2585.0   7530.12   \n",
       "10   April 2021    Male  Mixed / Multiple ethnic groups    1740.0   6494.24   \n",
       "11   April 2021    Male                           White  109950.0   5795.97   \n",
       "12   April 2022  Female          Any other ethnic group    2255.0   8488.70   \n",
       "13   April 2022  Female  Mixed / Multiple ethnic groups    2805.0   7638.13   \n",
       "14   April 2022  Female                           White  150875.0   5834.72   \n",
       "15   April 2022    Male          Any other ethnic group    3985.0  11365.10   \n",
       "16   April 2022    Male  Mixed / Multiple ethnic groups    3050.0   9262.64   \n",
       "17   April 2022    Male                           White  172815.0   8593.96   \n",
       "18  August 2020  Female          Any other ethnic group     350.0   1732.62   \n",
       "19  August 2020  Female  Mixed / Multiple ethnic groups     435.0   1453.71   \n",
       "\n",
       "        LCI       UCI  \n",
       "0   1074.95   2233.31  \n",
       "1    760.00   1564.89  \n",
       "2    840.55    889.47  \n",
       "3   1444.67   2750.58  \n",
       "4   1262.48   2432.69  \n",
       "5   1398.58   1474.94  \n",
       "6   4687.35   6756.16  \n",
       "7   4039.48   5709.62  \n",
       "8   3800.23   3903.77  \n",
       "9   6431.66   8825.27  \n",
       "10  5492.70   7654.04  \n",
       "11  5719.79   5872.97  \n",
       "12  7319.70   9820.57  \n",
       "13  6652.06   8744.18  \n",
       "14  5770.52   5899.51  \n",
       "15  9976.08  12949.20  \n",
       "16  8069.26  10613.52  \n",
       "17  8500.48   8688.24  \n",
       "18  1219.37   2414.03  \n",
       "19  1056.40   1975.33  "
      ]
     },
     "execution_count": 250,
     "metadata": {},
     "output_type": "execute_result"
    }
   ],
   "source": [
    "g.head(20)"
   ]
  }
 ],
 "metadata": {
  "kernelspec": {
   "display_name": "Python 3.10.9 64-bit",
   "language": "python",
   "name": "python3"
  },
  "language_info": {
   "codemirror_mode": {
    "name": "ipython",
    "version": 3
   },
   "file_extension": ".py",
   "mimetype": "text/x-python",
   "name": "python",
   "nbconvert_exporter": "python",
   "pygments_lexer": "ipython3",
   "version": "3.10.9"
  },
  "orig_nbformat": 4,
  "vscode": {
   "interpreter": {
    "hash": "aee8b7b246df8f9039afb4144a1f6fd8d2ca17a180786b69acc140d282b71a49"
   }
  }
 },
 "nbformat": 4,
 "nbformat_minor": 2
}
