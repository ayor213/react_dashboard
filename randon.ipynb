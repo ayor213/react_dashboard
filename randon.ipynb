{
 "cells": [
  {
   "cell_type": "code",
   "execution_count": 22,
   "metadata": {},
   "outputs": [
    {
     "name": "stdout",
     "output_type": "stream",
     "text": [
      "Contacts data has been exported to contacts.json.\n"
     ]
    }
   ],
   "source": [
    "import random\n",
    "\n",
    "# List of random first names\n",
    "first_names = [\n",
    "    \"Liam\", \"Olivia\", \"Noah\", \"Emma\", \"Oliver\", \"Ava\", \"William\", \"Sophia\", \"Elijah\", \"Isabella\",\n",
    "    \"James\", \"Charlotte\", \"Benjamin\", \"Amelia\", \"Lucas\", \"Mia\", \"Henry\", \"Harper\", \"Alexander\", \"Evelyn\",\n",
    "    \"Michael\", \"Abigail\", \"Daniel\", \"Emily\", \"Matthew\", \"Elizabeth\", \"Jackson\", \"Avery\", \"Logan\", \"Sofia\",\n",
    "    \"Sebastian\", \"Ella\", \"Mateo\", \"Madison\", \"David\", \"Scarlett\", \"Joseph\", \"Victoria\", \"Carter\", \"Aria\",\n",
    "    \"Owen\", \"Grace\", \"Wyatt\", \"Chloe\", \"John\", \"Penelope\", \"Jack\", \"Riley\", \"Luke\", \"Layla\",\n",
    "    \"Dylan\", \"Nora\", \"Grayson\", \"Zoey\", \"Levi\", \"Aubrey\", \"Isaac\", \"Hannah\", \"Jayden\", \"Lily\",\n",
    "    \"Gabriel\", \"Addison\", \"Julian\", \"Lillian\", \"Leo\", \"Natalie\", \"Lincoln\", \"Luna\", \"Christopher\", \"Samantha\",\n",
    "    \"Joshua\", \"Eleanor\", \"Andrew\", \"Brooklyn\", \"Caleb\", \"Leah\", \"Ethan\", \"Zoe\", \"Ryan\", \"Audrey\",\n",
    "    \"Asher\", \"Claire\", \"Nathan\", \"Ellie\", \"Thomas\", \"Skylar\", \"Leo\", \"Lucy\", \"Isaiah\", \"Nevaeh\",\n",
    "]\n",
    "\n",
    "# List of random last names\n",
    "last_names = [\n",
    "    \"Smith\", \"Johnson\", \"Williams\", \"Brown\", \"Jones\", \"Garcia\", \"Miller\", \"Davis\", \"Rodriguez\", \"Martinez\",\n",
    "    \"Hernandez\", \"Lopez\", \"Gonzalez\", \"Wilson\", \"Anderson\", \"Thomas\", \"Taylor\", \"Moore\", \"Jackson\", \"Martin\",\n",
    "    \"Lee\", \"Perez\", \"Thompson\", \"White\", \"Harris\", \"Sanchez\", \"Clark\", \"Ramirez\", \"Lewis\", \"Robinson\",\n",
    "    \"Walker\", \"Young\", \"Allen\", \"King\", \"Wright\", \"Scott\", \"Torres\", \"Nguyen\", \"Hill\", \"Flores\",\n",
    "    \"Green\", \"Adams\", \"Nelson\", \"Baker\", \"Hall\", \"Rivera\", \"Campbell\", \"Mitchell\", \"Carter\", \"Roberts\",\n",
    "    \"Gomez\", \"Phillips\", \"Evans\", \"Turner\", \"Diaz\", \"Parker\", \"Cruz\", \"Edwards\", \"Collins\", \"Reyes\",\n",
    "    \"Stewart\", \"Morris\", \"Morales\", \"Murphy\", \"Cook\", \"Rogers\", \"Gutierrez\", \"Ortiz\", \"Morgan\", \"Cooper\",\n",
    "    \"Peterson\", \"Bailey\", \"Reed\", \"Kelly\", \"Howard\", \"Ramos\", \"Kim\", \"Cox\", \"Ward\", \"Richardson\",\n",
    "    \"Watson\", \"Brooks\", \"Chavez\", \"Wood\", \"James\", \"Bennett\", \"Gray\", \"Mendoza\", \"Ruiz\", \"Hughes\",\n",
    "]\n",
    "\n",
    "# Generate random pairs of first and last names\n",
    "random_names = [(random.choice(first_names), random.choice(last_names)) for _ in range(100)]\n",
    "\n",
    "# Function to generate a random UK phone number\n",
    "def generate_phone_number():\n",
    "    return \"+44\" + \"\".join(random.choices(\"0123456789\", k=10))\n",
    "\n",
    "# Function to generate a random UK address\n",
    "def generate_address():\n",
    "    street_names = [\"King's Road\", \"High Street\", \"Church Street\", \"Park Avenue\"]\n",
    "    city_names = [\"London\", \"Manchester\", \"Birmingham\", \"Liverpool\"]\n",
    "    return str(random.randint(1, 100)) + \" \" + random.choice(street_names) + \", \" + random.choice(city_names)\n",
    "\n",
    "# Function to generate a random UK zip code\n",
    "def generate_zip_code():\n",
    "    return \"SW\" + \"\".join(random.choices(\"0123456789\", k=2)) + \" \" + \"\".join(random.choices(\"0123456789\", k=2)) + \"\".join(random.choices(\"ABDEFGHJLNPQRSTUWXYZ\", k=2))\n",
    "\n",
    "# Generate 100 contacts with random UK-style addresses, phone numbers, and zip codes\n",
    "mockDataContacts = []\n",
    "for i in range(1, 101):\n",
    "    name = random_names[i-1]\n",
    "    contact = {\n",
    "        \"id\": i,\n",
    "        \"name\":  f\"{name[0]} {name[1]}\",\n",
    "        \"email\": f\"{name[0].lower()}.{name[1].lower()}@gmail.com\",\n",
    "        \"age\": random.randint(18, 80),\n",
    "        \"phone\": generate_phone_number(),\n",
    "        \"address\": generate_address(),\n",
    "        \"city\": random.choice([\"London\", \"Manchester\", \"Birmingham\", \"Liverpool\"]),\n",
    "        \"zipCode\": generate_zip_code(),\n",
    "        \"registrarId\": random.randint(100000, 999999),\n",
    "    }\n",
    "    mockDataContacts.append(contact)\n",
    "\n",
    "# Print the generated contacts\n",
    "#for contact in mockDataContacts:\n",
    "    #print(contact, end=\", \")\n",
    "# Export the contacts data to a JSON file\n",
    "import json\n",
    "with open(\"contacts.json\", \"w\") as json_file:\n",
    "    json.dump(mockDataContacts, json_file, indent=4)\n",
    "\n",
    "print(\"Contacts data has been exported to contacts.json.\")"
   ]
  },
  {
   "cell_type": "code",
   "execution_count": 25,
   "metadata": {},
   "outputs": [
    {
     "name": "stdout",
     "output_type": "stream",
     "text": [
      "Teams data has been exported to contacts.json.\n"
     ]
    }
   ],
   "source": [
    "\n",
    "\n",
    "def generate_access():\n",
    "    access =  access = [\"admin\"] * 5 + [\"manager\"] * 10 + [\"user\"] * 85\n",
    "    return random.choice(access) \n",
    "# Generate 100 contacts with random UK-style addresses, phone numbers, and zip codes\n",
    "mockDataTeam = []\n",
    "for i in range(1, 101):\n",
    "    name = random_names[i-1]\n",
    "    Team = {\n",
    "        \"id\": i,\n",
    "        \"name\":  f\"{name[0]} {name[1]}\",\n",
    "        \"email\": f\"{name[0].lower()}.{name[1].lower()}@gmail.com\",\n",
    "        \"age\": random.randint(18, 80),\n",
    "        \"phone\": generate_phone_number(),\n",
    "        \"access\": generate_access(),\n",
    "        \n",
    "    }\n",
    "    mockDataTeam.append(Team)\n",
    "\n",
    "# Print the generated contacts\n",
    "#for Team in mockDataTeam:\n",
    "    #print(Team, end=\", \")\n",
    "# Export the contacts data to a JSON file\n",
    "import json\n",
    "with open(\"Team.json\", \"w\") as json_file:\n",
    "    json.dump(mockDataTeam, json_file, indent=4)\n",
    "\n",
    "print(\"Teams data has been exported to contacts.json.\")"
   ]
  },
  {
   "cell_type": "code",
   "execution_count": 27,
   "metadata": {},
   "outputs": [
    {
     "name": "stdout",
     "output_type": "stream",
     "text": [
      "Data has been exported to data.json.\n"
     ]
    }
   ],
   "source": [
    "def generate_date():\n",
    "    day = random.randint(1, 28)\n",
    "    month = random.randint(1, 12)\n",
    "    year = random.randint(2010, 2024)\n",
    "    return f\"{day:02d}/{month:02d}/{year}\"\n",
    "\n",
    "# Generate 100 entries with random data\n",
    "mockDate = []\n",
    "for i in range(1, 101):\n",
    "    name = random_names[i-1]\n",
    "    entry = {\n",
    "        \"id\": i,\n",
    "        \"name\": f\"{name[0]} {name[1]}\",\n",
    "        \"email\": f\"{name[0].lower()}.{name[1].lower()}@gmail.com\",\n",
    "        \"cost\": f\"{random.uniform(10.0, 100.0):.2f}\",\n",
    "        \"phone\": generate_phone_number(),\n",
    "        \"date\": generate_date(),\n",
    "    }\n",
    "    mockDate.append(entry)\n",
    "\n",
    "# Export the data to a JSON file\n",
    "import json\n",
    "with open(\"date.json\", \"w\") as json_file:\n",
    "    json.dump(mockDate, json_file, indent=4)\n",
    "\n",
    "print(\"Data has been exported to data.json.\")\n"
   ]
  }
 ],
 "metadata": {
  "kernelspec": {
   "display_name": "Python 3.10.9 64-bit",
   "language": "python",
   "name": "python3"
  },
  "language_info": {
   "codemirror_mode": {
    "name": "ipython",
    "version": 3
   },
   "file_extension": ".py",
   "mimetype": "text/x-python",
   "name": "python",
   "nbconvert_exporter": "python",
   "pygments_lexer": "ipython3",
   "version": "3.10.9"
  },
  "orig_nbformat": 4,
  "vscode": {
   "interpreter": {
    "hash": "aee8b7b246df8f9039afb4144a1f6fd8d2ca17a180786b69acc140d282b71a49"
   }
  }
 },
 "nbformat": 4,
 "nbformat_minor": 2
}
